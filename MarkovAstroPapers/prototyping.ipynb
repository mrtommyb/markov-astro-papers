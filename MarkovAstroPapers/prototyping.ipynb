{
 "cells": [
  {
   "cell_type": "code",
   "execution_count": 4,
   "metadata": {
    "collapsed": true
   },
   "outputs": [],
   "source": [
    "from __future__ import (absolute_import, division, print_function,\n",
    "                        unicode_literals)\n",
    "\n",
    "# Standard library\n",
    "import json\n",
    "\n",
    "# Module specific\n",
    "#import ads\n",
    "import ads.sandbox as ads\n",
    "import pandas as pd\n",
    "import markovify"
   ]
  },
  {
   "cell_type": "code",
   "execution_count": 5,
   "metadata": {
    "collapsed": true
   },
   "outputs": [],
   "source": [
    "# Which metadata fields do we want to retrieve from the ADS API?\n",
    "# (basically everything apart from 'aff' and 'body' to reduce data volume)\n",
    "FIELDS = ['pub', 'citation_count', 'year', 'first_author_norm',\n",
    "          'title', 'property'\n",
    "         ]"
   ]
  },
  {
   "cell_type": "code",
   "execution_count": 7,
   "metadata": {
    "collapsed": false
   },
   "outputs": [],
   "source": [
    "from __future__ import (absolute_import, division, print_function,\n",
    "                        unicode_literals)\n",
    "\n",
    "# Standard library\n",
    "import json\n",
    "import re\n",
    "import argparse\n",
    "\n",
    "# Module specific\n",
    "import ads\n",
    "#import ads.sandbox as ads\n",
    "import pandas as pd\n",
    "\n",
    "# Which metadata fields do we want to retrieve from the ADS API?\n",
    "FIELDS = ['pub', 'citation_count', 'year', 'first_author_norm',\n",
    "          'title', 'property'\n",
    "         ]\n",
    "\n",
    "def getPapers(year=1991,rows=200000, mincite=2):\n",
    "\n",
    "    query = ads.SearchQuery(rows=rows, \n",
    "        year=year, \n",
    "        fl=FIELDS, \n",
    "        database = \"astronomy\", sort='citation_count desc',\n",
    "           fq=['database:astronomy', 'property:refereed', \n",
    "           'property:article', 'citation_count:[{} TO *]'.format(mincite)])\n",
    "\n",
    "    return query\n",
    "\n",
    "def makeDataframe(year=1991,rows=200000, mincite=2):\n",
    "    papers = []\n",
    "    for x in getPapers(year=year, rows=rows, mincite=mincite):\n",
    "        papers.append(x)\n",
    "\n",
    "    df = pd.DataFrame(\n",
    "        columns=['lastname', 'title'],\n",
    "        data=[returnLastnameTitle(q) for q in papers])\n",
    "\n",
    "    return df\n",
    "\n",
    "def returnLastnameTitle(q):\n",
    "    # last name\n",
    "    try:\n",
    "        lastname = q.first_author_norm.split(',')[0]\n",
    "        lastname = re.sub(r'([^\\s\\w]|_)+', '', lastname)\n",
    "    except AttributeError:\n",
    "        return ['none','none']\n",
    "\n",
    "    # paper title\n",
    "    try:\n",
    "        title = q.title[0]\n",
    "        title = re.sub(r'([^\\s\\w]|_)+', '', title)\n",
    "    except TypeError:\n",
    "        return ['none','none']\n",
    "\n",
    "    return [lastname,title]\n",
    "\n",
    "def toJson(year=1991,rows=200000, mincite=2):\n",
    "    df = makeDataframe(year=year,rows=rows, mincite=mincite)\n",
    "    df.to_json('data/{}.json'.format(year))\n",
    "\n"
   ]
  },
  {
   "cell_type": "code",
   "execution_count": 51,
   "metadata": {
    "collapsed": false
   },
   "outputs": [],
   "source": [
    "def printReference(year):\n",
    "    df = pd.read_json('data/{}.json'.format(year), )\n",
    "    df.sort_index(inplace=True)\n",
    "    textstr = '. '.join([df.title[i] for i in range(df.shape[0])])\n",
    "    text_model = markovify.Text(textstr, state_size=1, )\n",
    "    outtitle = text_model.make_short_sentence(90)\n",
    "\n",
    "    author = df['lastname'].value_counts()[df['lastname'].value_counts() > 1].sample().index[0]\n",
    "\n",
    "    print('{} et al., {} ({})'.format(author,outtitle,year))"
   ]
  },
  {
   "cell_type": "code",
   "execution_count": 61,
   "metadata": {
    "collapsed": false
   },
   "outputs": [
    {
     "name": "stdout",
     "output_type": "stream",
     "text": [
      "Briggs et al., Cosmogenic nuclides in SU UMa Stars. (1990)\n"
     ]
    }
   ],
   "source": [
    "printReference(1990)"
   ]
  },
  {
   "cell_type": "code",
   "execution_count": 88,
   "metadata": {
    "collapsed": false
   },
   "outputs": [],
   "source": [
    "import markovify\n",
    "import pandas\n",
    "\n",
    "from twython import Twython\n",
    "from secrets import *\n",
    "\n",
    "def printReference(year):\n",
    "    df = pd.read_json('data/{}.json'.format(year), )\n",
    "    df.sort_index(inplace=True)\n",
    "    textstr = '. '.join([df.title[i] for i in range(df.shape[0])])\n",
    "    text_model = markovify.Text(textstr, state_size=1, )\n",
    "    outtitle = text_model.make_short_sentence(140)\n",
    "\n",
    "    author = df['lastname'].value_counts()[df['lastname'].value_counts() > 1].sample().index[0]\n",
    "\n",
    "    return '{} et al., {} ({})'.format(author,outtitle,year)\n",
    "\n",
    "def post_tweet(status,):\n",
    "    \"\"\"Post an animated gif and associated status message to Twitter.\"\"\"\n",
    "    twitter = Twython(APP_KEY, APP_SECRET, OAUTH_TOKEN, OAUTH_TOKEN_SECRET)\n",
    "    response = twitter.update_status(status=status)\n",
    "    print(response)\n",
    "    return twitter, response"
   ]
  },
  {
   "cell_type": "code",
   "execution_count": 100,
   "metadata": {
    "collapsed": false
   },
   "outputs": [
    {
     "name": "stdout",
     "output_type": "stream",
     "text": [
      "{u'contributors': None, u'truncated': False, u'text': u'Barrow et al., Globular Cluster System of the spiral galaxies. (1985)', u'is_quote_status': False, u'in_reply_to_status_id': None, u'id': 791790014367666178, u'favorite_count': 0, u'source': u'<a href=\"https://github.com/mrtommyb/markov-astro-papers\" rel=\"nofollow\">Astronomarkov</a>', u'retweeted': False, u'coordinates': None, u'entities': {u'symbols': [], u'user_mentions': [], u'hashtags': [], u'urls': []}, u'in_reply_to_screen_name': None, u'in_reply_to_user_id': None, u'retweet_count': 0, u'id_str': u'791790014367666178', u'favorited': False, u'user': {u'follow_request_sent': False, u'has_extended_profile': False, u'profile_use_background_image': False, u'default_profile_image': False, u'id': 791766755689529344, u'profile_background_image_url_https': u'https://abs.twimg.com/images/themes/theme1/bg.png', u'verified': False, u'translator_type': u'none', u'profile_text_color': u'000000', u'profile_image_url_https': u'https://pbs.twimg.com/profile_images/791772012855304194/ZyvPH0_6_normal.jpg', u'profile_sidebar_fill_color': u'000000', u'entities': {u'url': {u'urls': [{u'url': u'https://t.co/xPq3PPt3td', u'indices': [0, 23], u'expanded_url': u'https://github.com/mrtommyb/markov-astro-papers', u'display_url': u'github.com/mrtommyb/marko\\u2026'}]}, u'description': {u'urls': []}}, u'followers_count': 1, u'profile_sidebar_border_color': u'000000', u'id_str': u'791766755689529344', u'profile_background_color': u'000000', u'listed_count': 0, u'is_translation_enabled': False, u'utc_offset': None, u'statuses_count': 2, u'description': u'I tweet references to astronomy papers that never existed but are representative of titles from that year.', u'friends_count': 0, u'location': u'', u'profile_link_color': u'ABB8C2', u'profile_image_url': u'http://pbs.twimg.com/profile_images/791772012855304194/ZyvPH0_6_normal.jpg', u'following': False, u'geo_enabled': False, u'profile_banner_url': u'https://pbs.twimg.com/profile_banners/791766755689529344/1477608084', u'profile_background_image_url': u'http://abs.twimg.com/images/themes/theme1/bg.png', u'screen_name': u'astronomarkov', u'lang': u'en', u'profile_background_tile': False, u'favourites_count': 0, u'name': u'Astronomarkov', u'notifications': False, u'url': u'https://t.co/xPq3PPt3td', u'created_at': u'Thu Oct 27 22:21:19 +0000 2016', u'contributors_enabled': False, u'time_zone': None, u'protected': False, u'default_profile': False, u'is_translator': False}, u'geo': None, u'in_reply_to_user_id_str': None, u'lang': u'en', u'created_at': u'Thu Oct 27 23:53:44 +0000 2016', u'in_reply_to_status_id_str': None, u'place': None}\n"
     ]
    }
   ],
   "source": [
    "status = printReference(1985)\n",
    "q = post_tweet(status)"
   ]
  },
  {
   "cell_type": "code",
   "execution_count": 69,
   "metadata": {
    "collapsed": false
   },
   "outputs": [],
   "source": [
    "twitter = Twython(APP_KEY, APP_SECRET, OAUTH_TOKEN, OAUTH_TOKEN_SECRET)\n",
    "response = twitter.update_status(status='hello', )"
   ]
  },
  {
   "cell_type": "code",
   "execution_count": null,
   "metadata": {
    "collapsed": false
   },
   "outputs": [],
   "source": [
    "\n",
    "\n"
   ]
  },
  {
   "cell_type": "code",
   "execution_count": null,
   "metadata": {
    "collapsed": false
   },
   "outputs": [],
   "source": []
  },
  {
   "cell_type": "code",
   "execution_count": null,
   "metadata": {
    "collapsed": true
   },
   "outputs": [],
   "source": []
  },
  {
   "cell_type": "code",
   "execution_count": null,
   "metadata": {
    "collapsed": false
   },
   "outputs": [],
   "source": []
  },
  {
   "cell_type": "code",
   "execution_count": 62,
   "metadata": {
    "collapsed": false
   },
   "outputs": [
    {
     "name": "stderr",
     "output_type": "stream",
     "text": [
      "/Users/tom/.virtualenvs/p2/lib/python2.7/site-packages/ipykernel/__main__.py:2: FutureWarning: sort(....) is deprecated, use sort_index(.....)\n",
      "  from ipykernel import kernelapp as app\n"
     ]
    }
   ],
   "source": [
    "df = pd.read_json('data/2015.json', )\n",
    "df.sort(inplace=True)"
   ]
  },
  {
   "cell_type": "code",
   "execution_count": 98,
   "metadata": {
    "collapsed": false
   },
   "outputs": [
    {
     "name": "stdout",
     "output_type": "stream",
     "text": [
      "Wilson et al., Observations of auroral arcs and Stability of Mexico. (1973)\n"
     ]
    }
   ],
   "source": [
    "print(printReference(1973))"
   ]
  },
  {
   "cell_type": "code",
   "execution_count": null,
   "metadata": {
    "collapsed": false
   },
   "outputs": [],
   "source": []
  },
  {
   "cell_type": "code",
   "execution_count": null,
   "metadata": {
    "collapsed": false
   },
   "outputs": [],
   "source": []
  },
  {
   "cell_type": "code",
   "execution_count": null,
   "metadata": {
    "collapsed": false
   },
   "outputs": [],
   "source": [
    "\n"
   ]
  },
  {
   "cell_type": "code",
   "execution_count": null,
   "metadata": {
    "collapsed": false
   },
   "outputs": [],
   "source": []
  },
  {
   "cell_type": "code",
   "execution_count": null,
   "metadata": {
    "collapsed": false
   },
   "outputs": [],
   "source": []
  },
  {
   "cell_type": "code",
   "execution_count": 63,
   "metadata": {
    "collapsed": false
   },
   "outputs": [
    {
     "data": {
      "text/plain": [
       "(2000, 2)"
      ]
     },
     "execution_count": 63,
     "metadata": {},
     "output_type": "execute_result"
    }
   ],
   "source": [
    "df.shape"
   ]
  },
  {
   "cell_type": "code",
   "execution_count": null,
   "metadata": {
    "collapsed": true
   },
   "outputs": [],
   "source": []
  },
  {
   "cell_type": "code",
   "execution_count": 101,
   "metadata": {
    "collapsed": false
   },
   "outputs": [
    {
     "data": {
      "text/plain": [
       "u'tom tom'"
      ]
     },
     "execution_count": 101,
     "metadata": {},
     "output_type": "execute_result"
    }
   ],
   "source": [
    "re.sub('-',' ', 'tom-tom')"
   ]
  },
  {
   "cell_type": "code",
   "execution_count": null,
   "metadata": {
    "collapsed": true
   },
   "outputs": [],
   "source": []
  },
  {
   "cell_type": "code",
   "execution_count": null,
   "metadata": {
    "collapsed": true
   },
   "outputs": [],
   "source": []
  }
 ],
 "metadata": {
  "kernelspec": {
   "display_name": "Python 2",
   "language": "python",
   "name": "python2"
  },
  "language_info": {
   "codemirror_mode": {
    "name": "ipython",
    "version": 2
   },
   "file_extension": ".py",
   "mimetype": "text/x-python",
   "name": "python",
   "nbconvert_exporter": "python",
   "pygments_lexer": "ipython2",
   "version": "2.7.11"
  }
 },
 "nbformat": 4,
 "nbformat_minor": 0
}
