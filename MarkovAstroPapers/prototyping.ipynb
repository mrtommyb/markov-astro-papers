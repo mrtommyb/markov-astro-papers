{
 "cells": [
  {
   "cell_type": "code",
   "execution_count": 1,
   "metadata": {
    "collapsed": true
   },
   "outputs": [],
   "source": [
    "from __future__ import (absolute_import, division, print_function,\n",
    "                        unicode_literals)\n",
    "\n",
    "# Standard library\n",
    "import json\n",
    "\n",
    "# Module specific\n",
    "#import ads\n",
    "import ads.sandbox as ads\n",
    "import pandas as pd"
   ]
  },
  {
   "cell_type": "code",
   "execution_count": 2,
   "metadata": {
    "collapsed": true
   },
   "outputs": [],
   "source": [
    "journals = [ # (Scraped from Wikipedia)\n",
    "#    \"AIAA Journal\",\n",
    "#    \"Astrobiology\",\n",
    "    \"Astronomical Journal\",\n",
    "    \"Astronomical Review\",\n",
    "#    \"Astronomische Nachrichten\",\n",
    "    \"Astronomy and Astrophysics\",\n",
    "#    \"Astronomy and Computing\",\n",
    "#    \"Astronomy & Geophysics\",\n",
    "    \"Astronomy Letters\",\n",
    "    \"Astronomy Now\",\n",
    "    \"Astronomy Reports\",\n",
    "    \"Astroparticle Physics\",\n",
    "    \"The Astrophysical Journal\",\n",
    "#    \"The Astrophysical Journal Letters\",\n",
    "    \"The Astrophysical Journal Supplement Series\",\n",
    "    \"Astrophysics and Space Science\",\n",
    "    \"Celestial Mechanics and Dynamical Astronomy\",\n",
    "    \"Classical and Quantum Gravity\",\n",
    "#    \"Connaissance des Temps\",\n",
    "    \"Cosmic Research\",\n",
    "#    \"Earth, Moon, and Planets\",\n",
    "    \"Earth and Planetary Science Letters\",\n",
    "    \"General Relativity and Gravitation\",\n",
    "    \"Geophysical Research Letters\",\n",
    "    \"Icarus\",\n",
    "    \"International Astronomical Union Circular\",\n",
    "    \"International Journal of Astrobiology\",\n",
    "    \"Journal of the British Interplanetary Society\",\n",
    "    \"Journal of Cosmology\",\n",
    "    \"Journal of Cosmology and Astroparticle Physics\",\n",
    "    \"Journal of Geophysical Research\",\n",
    "#    \"Journal for the History of Astronomy\",\n",
    "#    \"Journal of the Korean Astronomical Society\",\n",
    "#    \"Journal of the Royal Astronomical Society of Canada\",\n",
    "#    \"Meteoritics & Planetary Science\",\n",
    "    \"Monthly Notices of the Royal Astronomical Society\",\n",
    "#    \"Nature Geoscience\",\n",
    "    \"New Astronomy\",\n",
    "    \"The Observatory\",\n",
    "    \"Planetary and Space Science\",\n",
    "#    \"Publications of the Astronomical Society of Japan\",\n",
    "    \"Publications of the Astronomical Society of the Pacific\",\n",
    "    \"Solar Physics\",\n",
    "    \"Space Science Reviews\",\n",
    "    ]\n",
    "\n",
    "# Which metadata fields do we want to retrieve from the ADS API?\n",
    "# (basically everything apart from 'aff' and 'body' to reduce data volume)\n",
    "FIELDS = ['pub', 'citation_count', 'year', 'first_author_norm',\n",
    "          'title', 'property'\n",
    "         ]"
   ]
  },
  {
   "cell_type": "code",
   "execution_count": 46,
   "metadata": {
    "collapsed": false
   },
   "outputs": [],
   "source": [
    "def getPapers(year=1991,rows=200000, mincite=2):\n",
    "\n",
    "    query = ads.SearchQuery(rows=rows, \n",
    "        year=year, \n",
    "        fl=FIELDS, \n",
    "        database = \"astronomy\", sort='citation_count desc',\n",
    "           fq=['database:astronomy', 'property:refereed', \n",
    "           'property:article', 'citation_count:[1 TO *]'.format(mincite)])\n",
    "\n",
    "    return query"
   ]
  },
  {
   "cell_type": "code",
   "execution_count": 24,
   "metadata": {
    "collapsed": false
   },
   "outputs": [],
   "source": []
  },
  {
   "cell_type": "code",
   "execution_count": 29,
   "metadata": {
    "collapsed": false
   },
   "outputs": [],
   "source": []
  },
  {
   "cell_type": "code",
   "execution_count": 47,
   "metadata": {
    "collapsed": false
   },
   "outputs": [],
   "source": [
    "papers = []\n",
    "for x in getPapers(1991):\n",
    "    papers.append(x)"
   ]
  },
  {
   "cell_type": "code",
   "execution_count": 28,
   "metadata": {
    "collapsed": false
   },
   "outputs": [
    {
     "name": "stdout",
     "output_type": "stream",
     "text": [
      "Sudilovsky GRB 130211A: retraction of afterglow candidate\n"
     ]
    }
   ],
   "source": [
    "# last name\n",
    "lastname = q.first_author_norm.split(',')[0]\n",
    "\n",
    "# paper title\n",
    "title = q.title[0]\n",
    "symbols = ['.',',',':',';','?','-']\n",
    "for s in symbols:\n",
    "    title = title.strip(s)\n",
    "\n",
    "print(lastname, title)"
   ]
  },
  {
   "cell_type": "code",
   "execution_count": 48,
   "metadata": {
    "collapsed": true
   },
   "outputs": [],
   "source": [
    "def returnLastnameTitle(q):\n",
    "    # last name\n",
    "    lastname = q.first_author_norm.split(',')[0]\n",
    "\n",
    "    # paper title\n",
    "    title = q.title[0]\n",
    "    symbols = ['.',',',':',';','?','-']\n",
    "    for s in symbols:\n",
    "        title = title.strip(s)\n",
    "\n",
    "    return [lastname,title]\n",
    "\n"
   ]
  },
  {
   "cell_type": "code",
   "execution_count": 49,
   "metadata": {
    "collapsed": false
   },
   "outputs": [
    {
     "data": {
      "text/html": [
       "<div>\n",
       "<table border=\"1\" class=\"dataframe\">\n",
       "  <thead>\n",
       "    <tr style=\"text-align: right;\">\n",
       "      <th></th>\n",
       "      <th>lastname</th>\n",
       "      <th>title</th>\n",
       "    </tr>\n",
       "  </thead>\n",
       "  <tbody>\n",
       "    <tr>\n",
       "      <th>0</th>\n",
       "      <td>Sudilovsky</td>\n",
       "      <td>Cyclic Adenosine 3',5'-Monophosphate during Gl...</td>\n",
       "    </tr>\n",
       "    <tr>\n",
       "      <th>1</th>\n",
       "      <td>Sudilovsky</td>\n",
       "      <td>GRB120404A: GROND observations show steeply de...</td>\n",
       "    </tr>\n",
       "    <tr>\n",
       "      <th>2</th>\n",
       "      <td>Sudilovsky</td>\n",
       "      <td>GROND observations of GRB 120311A</td>\n",
       "    </tr>\n",
       "    <tr>\n",
       "      <th>3</th>\n",
       "      <td>Sudilovsky</td>\n",
       "      <td>GRB 120324A: GROND observations</td>\n",
       "    </tr>\n",
       "    <tr>\n",
       "      <th>4</th>\n",
       "      <td>Sudilovsky</td>\n",
       "      <td>GRB 120401A: GROND detection of an optical/NIR...</td>\n",
       "    </tr>\n",
       "    <tr>\n",
       "      <th>5</th>\n",
       "      <td>Sudilovsky</td>\n",
       "      <td>GRB 131002B: GROND upper limits</td>\n",
       "    </tr>\n",
       "    <tr>\n",
       "      <th>6</th>\n",
       "      <td>Sudilovsky</td>\n",
       "      <td>GRB 131024A: GROND upper limits</td>\n",
       "    </tr>\n",
       "    <tr>\n",
       "      <th>7</th>\n",
       "      <td>Sudilovsky</td>\n",
       "      <td>GRB 130727A: GROND observations</td>\n",
       "    </tr>\n",
       "    <tr>\n",
       "      <th>8</th>\n",
       "      <td>Sudilovsky</td>\n",
       "      <td>GRB 130831B: GROND upper limits</td>\n",
       "    </tr>\n",
       "    <tr>\n",
       "      <th>9</th>\n",
       "      <td>Sudilovsky</td>\n",
       "      <td>GRB 130211A: retraction of afterglow candidate</td>\n",
       "    </tr>\n",
       "    <tr>\n",
       "      <th>10</th>\n",
       "      <td>Sudilovsky</td>\n",
       "      <td>GRB 130903A: GROND upper limits</td>\n",
       "    </tr>\n",
       "    <tr>\n",
       "      <th>11</th>\n",
       "      <td>Sudilovsky</td>\n",
       "      <td>GRB 110223B: GROND detection of optical afterg...</td>\n",
       "    </tr>\n",
       "    <tr>\n",
       "      <th>12</th>\n",
       "      <td>Sudilovsky</td>\n",
       "      <td>GRB 110825A: GROND observations</td>\n",
       "    </tr>\n",
       "    <tr>\n",
       "      <th>13</th>\n",
       "      <td>Sudilovsky</td>\n",
       "      <td>GRB 120804A: GROND upper limits</td>\n",
       "    </tr>\n",
       "    <tr>\n",
       "      <th>14</th>\n",
       "      <td>Sudilovsky</td>\n",
       "      <td>GROND observations of GRB 120327A</td>\n",
       "    </tr>\n",
       "    <tr>\n",
       "      <th>15</th>\n",
       "      <td>Sudilovsky</td>\n",
       "      <td>GRB 130925A: GROND afterglow candidate</td>\n",
       "    </tr>\n",
       "    <tr>\n",
       "      <th>16</th>\n",
       "      <td>Sudilovsky</td>\n",
       "      <td>GRB 130925A: VLT/X-shooter redshift</td>\n",
       "    </tr>\n",
       "    <tr>\n",
       "      <th>17</th>\n",
       "      <td>Sudilovsky</td>\n",
       "      <td>GRB 131011A: GROND afterglow observations</td>\n",
       "    </tr>\n",
       "    <tr>\n",
       "      <th>18</th>\n",
       "      <td>Sudilovsky</td>\n",
       "      <td>GRB 120819A: GROND afterglow confirmation</td>\n",
       "    </tr>\n",
       "    <tr>\n",
       "      <th>19</th>\n",
       "      <td>Sudilovsky</td>\n",
       "      <td>GRB 120909A: GROND detection of the afterglow</td>\n",
       "    </tr>\n",
       "    <tr>\n",
       "      <th>20</th>\n",
       "      <td>Sudilovsky</td>\n",
       "      <td>GRB 120722A: GROND detection of the afterglow</td>\n",
       "    </tr>\n",
       "    <tr>\n",
       "      <th>21</th>\n",
       "      <td>Sudilovsky</td>\n",
       "      <td>GRB 120815A: GROND afterglow candidate</td>\n",
       "    </tr>\n",
       "    <tr>\n",
       "      <th>22</th>\n",
       "      <td>Sudilovsky</td>\n",
       "      <td>Clustering of galaxies near GRB afterglows</td>\n",
       "    </tr>\n",
       "    <tr>\n",
       "      <th>23</th>\n",
       "      <td>Sudilovsky</td>\n",
       "      <td>GRB 121027A: GROND confirmation of rebrightening</td>\n",
       "    </tr>\n",
       "    <tr>\n",
       "      <th>24</th>\n",
       "      <td>Sudilovsky</td>\n",
       "      <td>GRB 130408A: GROND detection of the afterglow</td>\n",
       "    </tr>\n",
       "    <tr>\n",
       "      <th>25</th>\n",
       "      <td>Sudilovsky</td>\n",
       "      <td>Clustering of galaxies around gamma-ray burst ...</td>\n",
       "    </tr>\n",
       "    <tr>\n",
       "      <th>26</th>\n",
       "      <td>Sudilovsky</td>\n",
       "      <td>Intervening Metal Systems in GRB and QSO Sight...</td>\n",
       "    </tr>\n",
       "    <tr>\n",
       "      <th>27</th>\n",
       "      <td>Sudilovsky</td>\n",
       "      <td>Dusty Mg II Absorbers: Implications for the Ga...</td>\n",
       "    </tr>\n",
       "  </tbody>\n",
       "</table>\n",
       "</div>"
      ],
      "text/plain": [
       "      lastname                                              title\n",
       "0   Sudilovsky  Cyclic Adenosine 3',5'-Monophosphate during Gl...\n",
       "1   Sudilovsky  GRB120404A: GROND observations show steeply de...\n",
       "2   Sudilovsky                  GROND observations of GRB 120311A\n",
       "3   Sudilovsky                    GRB 120324A: GROND observations\n",
       "4   Sudilovsky  GRB 120401A: GROND detection of an optical/NIR...\n",
       "5   Sudilovsky                    GRB 131002B: GROND upper limits\n",
       "6   Sudilovsky                    GRB 131024A: GROND upper limits\n",
       "7   Sudilovsky                    GRB 130727A: GROND observations\n",
       "8   Sudilovsky                    GRB 130831B: GROND upper limits\n",
       "9   Sudilovsky     GRB 130211A: retraction of afterglow candidate\n",
       "10  Sudilovsky                    GRB 130903A: GROND upper limits\n",
       "11  Sudilovsky  GRB 110223B: GROND detection of optical afterg...\n",
       "12  Sudilovsky                    GRB 110825A: GROND observations\n",
       "13  Sudilovsky                    GRB 120804A: GROND upper limits\n",
       "14  Sudilovsky                  GROND observations of GRB 120327A\n",
       "15  Sudilovsky             GRB 130925A: GROND afterglow candidate\n",
       "16  Sudilovsky                GRB 130925A: VLT/X-shooter redshift\n",
       "17  Sudilovsky          GRB 131011A: GROND afterglow observations\n",
       "18  Sudilovsky          GRB 120819A: GROND afterglow confirmation\n",
       "19  Sudilovsky      GRB 120909A: GROND detection of the afterglow\n",
       "20  Sudilovsky      GRB 120722A: GROND detection of the afterglow\n",
       "21  Sudilovsky             GRB 120815A: GROND afterglow candidate\n",
       "22  Sudilovsky         Clustering of galaxies near GRB afterglows\n",
       "23  Sudilovsky   GRB 121027A: GROND confirmation of rebrightening\n",
       "24  Sudilovsky      GRB 130408A: GROND detection of the afterglow\n",
       "25  Sudilovsky  Clustering of galaxies around gamma-ray burst ...\n",
       "26  Sudilovsky  Intervening Metal Systems in GRB and QSO Sight...\n",
       "27  Sudilovsky  Dusty Mg II Absorbers: Implications for the Ga..."
      ]
     },
     "execution_count": 49,
     "metadata": {},
     "output_type": "execute_result"
    }
   ],
   "source": [
    "\n",
    "\n"
   ]
  },
  {
   "cell_type": "code",
   "execution_count": 45,
   "metadata": {
    "collapsed": false
   },
   "outputs": [
    {
     "data": {
      "text/plain": [
       "[]"
      ]
     },
     "execution_count": 45,
     "metadata": {},
     "output_type": "execute_result"
    }
   ],
   "source": [
    "[returnLastnameTitle(q) for q in papers]"
   ]
  },
  {
   "cell_type": "code",
   "execution_count": 50,
   "metadata": {
    "collapsed": true
   },
   "outputs": [],
   "source": [
    "#!/usr/bin/env python\n",
    "# -*- coding: utf-8 -*-\n",
    "\"\"\"\"Get paper titles from ADS\n",
    "Author: Tom Barclay\n",
    "\n",
    "much of this is plundered from Andy Casey, e.g.\n",
    "https://github.com/andycasey/ads/blob/master/examples/journal-publications-over-time/journals.py\n",
    "\"\"\"\n",
    "\n",
    "from __future__ import (absolute_import, division, print_function,\n",
    "                        unicode_literals)\n",
    "\n",
    "# Standard library\n",
    "import json\n",
    "\n",
    "# Module specific\n",
    "#import ads\n",
    "import ads.sandbox as ads\n",
    "import pandas as pd\n",
    "\n",
    "# Which metadata fields do we want to retrieve from the ADS API?\n",
    "# (basically everything apart from 'aff' and 'body' to reduce data volume)\n",
    "FIELDS = ['pub', 'citation_count', 'year', 'first_author_norm',\n",
    "          'title', 'property'\n",
    "         ]\n",
    "\n",
    "def getPapers(year=1991,rows=200000, mincite=2):\n",
    "\n",
    "    query = ads.SearchQuery(rows=rows, \n",
    "        year=year, \n",
    "        fl=FIELDS, \n",
    "        database = \"astronomy\", sort='citation_count desc',\n",
    "           fq=['database:astronomy', 'property:refereed', \n",
    "           'property:article', 'citation_count:[1 TO *]'.format(mincite)])\n",
    "\n",
    "    return query\n",
    "\n",
    "def makeDataframe(year=1991,rows=200000, mincite=2):\n",
    "    papers = []\n",
    "    for x in getPapers(year=year, rows=rows, mincite=mincite):\n",
    "        papers.append(x)\n",
    "\n",
    "    df = pd.DataFrame(\n",
    "        columns=['lastname', 'title'],\n",
    "        data=[returnLastnameTitle(q) for q in papers])\n",
    "\n",
    "    return df\n",
    "\n",
    "def returnLastnameTitle(q):\n",
    "    # last name\n",
    "    lastname = q.first_author_norm.split(',')[0]\n",
    "\n",
    "    # paper title\n",
    "    title = q.title[0]\n",
    "    symbols = ['.',',',':',';','?','-']\n",
    "    for s in symbols:\n",
    "        title = title.strip(s)\n",
    "\n",
    "    return [lastname,title]\n",
    "\n",
    "\n",
    "\n"
   ]
  },
  {
   "cell_type": "code",
   "execution_count": 52,
   "metadata": {
    "collapsed": false
   },
   "outputs": [],
   "source": [
    "df = makeDataframe(rows=100)"
   ]
  },
  {
   "cell_type": "code",
   "execution_count": null,
   "metadata": {
    "collapsed": true
   },
   "outputs": [],
   "source": []
  }
 ],
 "metadata": {
  "kernelspec": {
   "display_name": "Python 2",
   "language": "python",
   "name": "python2"
  },
  "language_info": {
   "codemirror_mode": {
    "name": "ipython",
    "version": 2
   },
   "file_extension": ".py",
   "mimetype": "text/x-python",
   "name": "python",
   "nbconvert_exporter": "python",
   "pygments_lexer": "ipython2",
   "version": "2.7.11"
  }
 },
 "nbformat": 4,
 "nbformat_minor": 0
}
