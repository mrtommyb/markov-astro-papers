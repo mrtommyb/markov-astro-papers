{
 "cells": [
  {
   "cell_type": "code",
   "execution_count": 4,
   "metadata": {
    "collapsed": true
   },
   "outputs": [],
   "source": [
    "from __future__ import (absolute_import, division, print_function,\n",
    "                        unicode_literals)\n",
    "\n",
    "# Standard library\n",
    "import json\n",
    "\n",
    "# Module specific\n",
    "#import ads\n",
    "import ads.sandbox as ads\n",
    "import pandas as pd\n",
    "import markovify"
   ]
  },
  {
   "cell_type": "code",
   "execution_count": 5,
   "metadata": {
    "collapsed": true
   },
   "outputs": [],
   "source": [
    "# Which metadata fields do we want to retrieve from the ADS API?\n",
    "# (basically everything apart from 'aff' and 'body' to reduce data volume)\n",
    "FIELDS = ['pub', 'citation_count', 'year', 'first_author_norm',\n",
    "          'title', 'property'\n",
    "         ]"
   ]
  },
  {
   "cell_type": "code",
   "execution_count": 7,
   "metadata": {
    "collapsed": false
   },
   "outputs": [],
   "source": [
    "from __future__ import (absolute_import, division, print_function,\n",
    "                        unicode_literals)\n",
    "\n",
    "# Standard library\n",
    "import json\n",
    "import re\n",
    "import argparse\n",
    "\n",
    "# Module specific\n",
    "import ads\n",
    "#import ads.sandbox as ads\n",
    "import pandas as pd\n",
    "\n",
    "# Which metadata fields do we want to retrieve from the ADS API?\n",
    "FIELDS = ['pub', 'citation_count', 'year', 'first_author_norm',\n",
    "          'title', 'property'\n",
    "         ]\n",
    "\n",
    "def getPapers(year=1991,rows=200000, mincite=2):\n",
    "\n",
    "    query = ads.SearchQuery(rows=rows, \n",
    "        year=year, \n",
    "        fl=FIELDS, \n",
    "        database = \"astronomy\", sort='citation_count desc',\n",
    "           fq=['database:astronomy', 'property:refereed', \n",
    "           'property:article', 'citation_count:[{} TO *]'.format(mincite)])\n",
    "\n",
    "    return query\n",
    "\n",
    "def makeDataframe(year=1991,rows=200000, mincite=2):\n",
    "    papers = []\n",
    "    for x in getPapers(year=year, rows=rows, mincite=mincite):\n",
    "        papers.append(x)\n",
    "\n",
    "    df = pd.DataFrame(\n",
    "        columns=['lastname', 'title'],\n",
    "        data=[returnLastnameTitle(q) for q in papers])\n",
    "\n",
    "    return df\n",
    "\n",
    "def returnLastnameTitle(q):\n",
    "    # last name\n",
    "    try:\n",
    "        lastname = q.first_author_norm.split(',')[0]\n",
    "        lastname = re.sub(r'([^\\s\\w]|_)+', '', lastname)\n",
    "    except AttributeError:\n",
    "        return ['none','none']\n",
    "\n",
    "    # paper title\n",
    "    try:\n",
    "        title = q.title[0]\n",
    "        title = re.sub(r'([^\\s\\w]|_)+', '', title)\n",
    "    except TypeError:\n",
    "        return ['none','none']\n",
    "\n",
    "    return [lastname,title]\n",
    "\n",
    "def toJson(year=1991,rows=200000, mincite=2):\n",
    "    df = makeDataframe(year=year,rows=rows, mincite=mincite)\n",
    "    df.to_json('data/{}.json'.format(year))\n",
    "\n"
   ]
  },
  {
   "cell_type": "code",
   "execution_count": 51,
   "metadata": {
    "collapsed": false
   },
   "outputs": [],
   "source": [
    "def printReference(year):\n",
    "    df = pd.read_json('data/{}.json'.format(year), )\n",
    "    df.sort_index(inplace=True)\n",
    "    textstr = '. '.join([df.title[i] for i in range(df.shape[0])])\n",
    "    text_model = markovify.Text(textstr, state_size=1, )\n",
    "    outtitle = text_model.make_short_sentence(90)\n",
    "\n",
    "    author = df['lastname'].value_counts()[df['lastname'].value_counts() > 1].sample().index[0]\n",
    "\n",
    "    print('{} et al., {} ({})'.format(author,outtitle,year))"
   ]
  },
  {
   "cell_type": "code",
   "execution_count": 53,
   "metadata": {
    "collapsed": false
   },
   "outputs": [
    {
     "name": "stdout",
     "output_type": "stream",
     "text": [
      "Capozziello et al., Conformal and Physical Evolution of Candidate Cluster of our Galaxy. (2012)\n"
     ]
    }
   ],
   "source": [
    "printReference(2012)"
   ]
  },
  {
   "cell_type": "code",
   "execution_count": null,
   "metadata": {
    "collapsed": false
   },
   "outputs": [],
   "source": []
  },
  {
   "cell_type": "code",
   "execution_count": 8,
   "metadata": {
    "collapsed": false
   },
   "outputs": [
    {
     "name": "stdout",
     "output_type": "stream",
     "text": [
      "Sudilovsky Cyclic Adenosine 3',5'-Monophosphate during Glucose Repression in the Rat Liver\n"
     ]
    },
    {
     "name": "stderr",
     "output_type": "stream",
     "text": [
      "/Users/tom/.virtualenvs/p2/lib/python2.7/site-packages/ads/utils.py:23: UserWarning: You are lazy loading attributes via 'first_author_norm', and so are making multiple calls to the API. This will impact your overall rate limits.\n",
      "  UserWarning,\n",
      "/Users/tom/.virtualenvs/p2/lib/python2.7/site-packages/ads/utils.py:23: UserWarning: You are lazy loading attributes via 'title', and so are making multiple calls to the API. This will impact your overall rate limits.\n",
      "  UserWarning,\n"
     ]
    }
   ],
   "source": []
  },
  {
   "cell_type": "code",
   "execution_count": 48,
   "metadata": {
    "collapsed": true
   },
   "outputs": [],
   "source": [
    "\n"
   ]
  },
  {
   "cell_type": "code",
   "execution_count": 49,
   "metadata": {
    "collapsed": false
   },
   "outputs": [
    {
     "data": {
      "text/html": [
       "<div>\n",
       "<table border=\"1\" class=\"dataframe\">\n",
       "  <thead>\n",
       "    <tr style=\"text-align: right;\">\n",
       "      <th></th>\n",
       "      <th>lastname</th>\n",
       "      <th>title</th>\n",
       "    </tr>\n",
       "  </thead>\n",
       "  <tbody>\n",
       "    <tr>\n",
       "      <th>0</th>\n",
       "      <td>Sudilovsky</td>\n",
       "      <td>Cyclic Adenosine 3',5'-Monophosphate during Gl...</td>\n",
       "    </tr>\n",
       "    <tr>\n",
       "      <th>1</th>\n",
       "      <td>Sudilovsky</td>\n",
       "      <td>GRB120404A: GROND observations show steeply de...</td>\n",
       "    </tr>\n",
       "    <tr>\n",
       "      <th>2</th>\n",
       "      <td>Sudilovsky</td>\n",
       "      <td>GROND observations of GRB 120311A</td>\n",
       "    </tr>\n",
       "    <tr>\n",
       "      <th>3</th>\n",
       "      <td>Sudilovsky</td>\n",
       "      <td>GRB 120324A: GROND observations</td>\n",
       "    </tr>\n",
       "    <tr>\n",
       "      <th>4</th>\n",
       "      <td>Sudilovsky</td>\n",
       "      <td>GRB 120401A: GROND detection of an optical/NIR...</td>\n",
       "    </tr>\n",
       "    <tr>\n",
       "      <th>5</th>\n",
       "      <td>Sudilovsky</td>\n",
       "      <td>GRB 131002B: GROND upper limits</td>\n",
       "    </tr>\n",
       "    <tr>\n",
       "      <th>6</th>\n",
       "      <td>Sudilovsky</td>\n",
       "      <td>GRB 131024A: GROND upper limits</td>\n",
       "    </tr>\n",
       "    <tr>\n",
       "      <th>7</th>\n",
       "      <td>Sudilovsky</td>\n",
       "      <td>GRB 130727A: GROND observations</td>\n",
       "    </tr>\n",
       "    <tr>\n",
       "      <th>8</th>\n",
       "      <td>Sudilovsky</td>\n",
       "      <td>GRB 130831B: GROND upper limits</td>\n",
       "    </tr>\n",
       "    <tr>\n",
       "      <th>9</th>\n",
       "      <td>Sudilovsky</td>\n",
       "      <td>GRB 130211A: retraction of afterglow candidate</td>\n",
       "    </tr>\n",
       "    <tr>\n",
       "      <th>10</th>\n",
       "      <td>Sudilovsky</td>\n",
       "      <td>GRB 130903A: GROND upper limits</td>\n",
       "    </tr>\n",
       "    <tr>\n",
       "      <th>11</th>\n",
       "      <td>Sudilovsky</td>\n",
       "      <td>GRB 110223B: GROND detection of optical afterg...</td>\n",
       "    </tr>\n",
       "    <tr>\n",
       "      <th>12</th>\n",
       "      <td>Sudilovsky</td>\n",
       "      <td>GRB 110825A: GROND observations</td>\n",
       "    </tr>\n",
       "    <tr>\n",
       "      <th>13</th>\n",
       "      <td>Sudilovsky</td>\n",
       "      <td>GRB 120804A: GROND upper limits</td>\n",
       "    </tr>\n",
       "    <tr>\n",
       "      <th>14</th>\n",
       "      <td>Sudilovsky</td>\n",
       "      <td>GROND observations of GRB 120327A</td>\n",
       "    </tr>\n",
       "    <tr>\n",
       "      <th>15</th>\n",
       "      <td>Sudilovsky</td>\n",
       "      <td>GRB 130925A: GROND afterglow candidate</td>\n",
       "    </tr>\n",
       "    <tr>\n",
       "      <th>16</th>\n",
       "      <td>Sudilovsky</td>\n",
       "      <td>GRB 130925A: VLT/X-shooter redshift</td>\n",
       "    </tr>\n",
       "    <tr>\n",
       "      <th>17</th>\n",
       "      <td>Sudilovsky</td>\n",
       "      <td>GRB 131011A: GROND afterglow observations</td>\n",
       "    </tr>\n",
       "    <tr>\n",
       "      <th>18</th>\n",
       "      <td>Sudilovsky</td>\n",
       "      <td>GRB 120819A: GROND afterglow confirmation</td>\n",
       "    </tr>\n",
       "    <tr>\n",
       "      <th>19</th>\n",
       "      <td>Sudilovsky</td>\n",
       "      <td>GRB 120909A: GROND detection of the afterglow</td>\n",
       "    </tr>\n",
       "    <tr>\n",
       "      <th>20</th>\n",
       "      <td>Sudilovsky</td>\n",
       "      <td>GRB 120722A: GROND detection of the afterglow</td>\n",
       "    </tr>\n",
       "    <tr>\n",
       "      <th>21</th>\n",
       "      <td>Sudilovsky</td>\n",
       "      <td>GRB 120815A: GROND afterglow candidate</td>\n",
       "    </tr>\n",
       "    <tr>\n",
       "      <th>22</th>\n",
       "      <td>Sudilovsky</td>\n",
       "      <td>Clustering of galaxies near GRB afterglows</td>\n",
       "    </tr>\n",
       "    <tr>\n",
       "      <th>23</th>\n",
       "      <td>Sudilovsky</td>\n",
       "      <td>GRB 121027A: GROND confirmation of rebrightening</td>\n",
       "    </tr>\n",
       "    <tr>\n",
       "      <th>24</th>\n",
       "      <td>Sudilovsky</td>\n",
       "      <td>GRB 130408A: GROND detection of the afterglow</td>\n",
       "    </tr>\n",
       "    <tr>\n",
       "      <th>25</th>\n",
       "      <td>Sudilovsky</td>\n",
       "      <td>Clustering of galaxies around gamma-ray burst ...</td>\n",
       "    </tr>\n",
       "    <tr>\n",
       "      <th>26</th>\n",
       "      <td>Sudilovsky</td>\n",
       "      <td>Intervening Metal Systems in GRB and QSO Sight...</td>\n",
       "    </tr>\n",
       "    <tr>\n",
       "      <th>27</th>\n",
       "      <td>Sudilovsky</td>\n",
       "      <td>Dusty Mg II Absorbers: Implications for the Ga...</td>\n",
       "    </tr>\n",
       "  </tbody>\n",
       "</table>\n",
       "</div>"
      ],
      "text/plain": [
       "      lastname                                              title\n",
       "0   Sudilovsky  Cyclic Adenosine 3',5'-Monophosphate during Gl...\n",
       "1   Sudilovsky  GRB120404A: GROND observations show steeply de...\n",
       "2   Sudilovsky                  GROND observations of GRB 120311A\n",
       "3   Sudilovsky                    GRB 120324A: GROND observations\n",
       "4   Sudilovsky  GRB 120401A: GROND detection of an optical/NIR...\n",
       "5   Sudilovsky                    GRB 131002B: GROND upper limits\n",
       "6   Sudilovsky                    GRB 131024A: GROND upper limits\n",
       "7   Sudilovsky                    GRB 130727A: GROND observations\n",
       "8   Sudilovsky                    GRB 130831B: GROND upper limits\n",
       "9   Sudilovsky     GRB 130211A: retraction of afterglow candidate\n",
       "10  Sudilovsky                    GRB 130903A: GROND upper limits\n",
       "11  Sudilovsky  GRB 110223B: GROND detection of optical afterg...\n",
       "12  Sudilovsky                    GRB 110825A: GROND observations\n",
       "13  Sudilovsky                    GRB 120804A: GROND upper limits\n",
       "14  Sudilovsky                  GROND observations of GRB 120327A\n",
       "15  Sudilovsky             GRB 130925A: GROND afterglow candidate\n",
       "16  Sudilovsky                GRB 130925A: VLT/X-shooter redshift\n",
       "17  Sudilovsky          GRB 131011A: GROND afterglow observations\n",
       "18  Sudilovsky          GRB 120819A: GROND afterglow confirmation\n",
       "19  Sudilovsky      GRB 120909A: GROND detection of the afterglow\n",
       "20  Sudilovsky      GRB 120722A: GROND detection of the afterglow\n",
       "21  Sudilovsky             GRB 120815A: GROND afterglow candidate\n",
       "22  Sudilovsky         Clustering of galaxies near GRB afterglows\n",
       "23  Sudilovsky   GRB 121027A: GROND confirmation of rebrightening\n",
       "24  Sudilovsky      GRB 130408A: GROND detection of the afterglow\n",
       "25  Sudilovsky  Clustering of galaxies around gamma-ray burst ...\n",
       "26  Sudilovsky  Intervening Metal Systems in GRB and QSO Sight...\n",
       "27  Sudilovsky  Dusty Mg II Absorbers: Implications for the Ga..."
      ]
     },
     "execution_count": 49,
     "metadata": {},
     "output_type": "execute_result"
    }
   ],
   "source": [
    "\n",
    "\n"
   ]
  },
  {
   "cell_type": "code",
   "execution_count": 45,
   "metadata": {
    "collapsed": false
   },
   "outputs": [
    {
     "data": {
      "text/plain": [
       "[]"
      ]
     },
     "execution_count": 45,
     "metadata": {},
     "output_type": "execute_result"
    }
   ],
   "source": []
  },
  {
   "cell_type": "code",
   "execution_count": 72,
   "metadata": {
    "collapsed": true
   },
   "outputs": [],
   "source": []
  },
  {
   "cell_type": "code",
   "execution_count": 74,
   "metadata": {
    "collapsed": false
   },
   "outputs": [
    {
     "data": {
      "text/plain": [
       "[[u'Sudilovsky',\n",
       "  u'Cyclic Adenosine 35Monophosphate during Glucose Repression in the Rat Liver'],\n",
       " [u'Sudilovsky',\n",
       "  u'GRB120404A GROND observations show steeply decaying afterglow'],\n",
       " [u'Sudilovsky', u'GROND observations of GRB 120311A'],\n",
       " [u'Sudilovsky', u'GRB 120324A GROND observations'],\n",
       " [u'Sudilovsky',\n",
       "  u'GRB 120401A GROND detection of an opticalNIR afterglow candidate'],\n",
       " [u'Sudilovsky', u'GRB 131002B GROND upper limits'],\n",
       " [u'Sudilovsky', u'GRB 131024A GROND upper limits'],\n",
       " [u'Sudilovsky', u'GRB 130727A GROND observations'],\n",
       " [u'Sudilovsky', u'GRB 130831B GROND upper limits'],\n",
       " [u'Sudilovsky', u'GRB 130211A retraction of afterglow candidate'],\n",
       " [u'Sudilovsky', u'GRB 130903A GROND upper limits'],\n",
       " [u'Sudilovsky',\n",
       "  u'GRB 110223B GROND detection of optical afterglow candidate'],\n",
       " [u'Sudilovsky', u'GRB 110825A GROND observations'],\n",
       " [u'Sudilovsky', u'GRB 120804A GROND upper limits'],\n",
       " [u'Sudilovsky', u'GROND observations of GRB 120327A'],\n",
       " [u'Sudilovsky', u'GRB 130925A GROND afterglow candidate'],\n",
       " [u'Sudilovsky', u'GRB 130925A VLTXshooter redshift'],\n",
       " [u'Sudilovsky', u'GRB 131011A GROND afterglow observations'],\n",
       " [u'Sudilovsky', u'GRB 120819A GROND afterglow confirmation'],\n",
       " [u'Sudilovsky', u'GRB 120909A GROND detection of the afterglow'],\n",
       " [u'Sudilovsky', u'GRB 120722A GROND detection of the afterglow'],\n",
       " [u'Sudilovsky', u'GRB 120815A GROND afterglow candidate'],\n",
       " [u'Sudilovsky', u'Clustering of galaxies near GRB afterglows'],\n",
       " [u'Sudilovsky', u'GRB 121027A GROND confirmation of rebrightening'],\n",
       " [u'Sudilovsky', u'GRB 130408A GROND detection of the afterglow'],\n",
       " [u'Sudilovsky', u'Clustering of galaxies around gammaray burst sightlines'],\n",
       " [u'Sudilovsky',\n",
       "  u'Intervening Metal Systems in GRB and QSO Sight Lines The Mg II and C IV Question'],\n",
       " [u'Sudilovsky',\n",
       "  u'Dusty Mg II Absorbers Implications for the Gammaray BurstQuasar Incidence Discrepancy']]"
      ]
     },
     "execution_count": 74,
     "metadata": {},
     "output_type": "execute_result"
    }
   ],
   "source": []
  },
  {
   "cell_type": "code",
   "execution_count": 45,
   "metadata": {
    "collapsed": false
   },
   "outputs": [
    {
     "name": "stderr",
     "output_type": "stream",
     "text": [
      "/Users/tom/.virtualenvs/p2/lib/python2.7/site-packages/ipykernel/__main__.py:2: FutureWarning: sort(....) is deprecated, use sort_index(.....)\n",
      "  from ipykernel import kernelapp as app\n"
     ]
    }
   ],
   "source": [
    "df = pd.read_json('data/2015.json', )\n",
    "df.sort(inplace=True)"
   ]
  },
  {
   "cell_type": "code",
   "execution_count": 46,
   "metadata": {
    "collapsed": false
   },
   "outputs": [
    {
     "data": {
      "text/plain": [
       "(2000, 2)"
      ]
     },
     "execution_count": 46,
     "metadata": {},
     "output_type": "execute_result"
    }
   ],
   "source": []
  },
  {
   "cell_type": "code",
   "execution_count": 47,
   "metadata": {
    "collapsed": false
   },
   "outputs": [],
   "source": []
  },
  {
   "cell_type": "code",
   "execution_count": 51,
   "metadata": {
    "collapsed": false
   },
   "outputs": [
    {
     "name": "stdout",
     "output_type": "stream",
     "text": [
      "Calibration of the mass in three dimensions: II.\n",
      "Time Lags and 250/350 μm surface compositions of live <SUP>244</SUP>Pu in HL Tau.\n",
      "The uranium isotopic anomalies in the EAGLE simulation.\n",
      "Gas Giant Extrasolar System OGLE-2014-BLG-1050L.\n"
     ]
    }
   ],
   "source": []
  },
  {
   "cell_type": "code",
   "execution_count": 98,
   "metadata": {
    "collapsed": false
   },
   "outputs": [
    {
     "data": {
      "text/plain": [
       "u'Alonso'"
      ]
     },
     "execution_count": 98,
     "metadata": {},
     "output_type": "execute_result"
    }
   ],
   "source": [
    "\n"
   ]
  },
  {
   "cell_type": "code",
   "execution_count": 117,
   "metadata": {
    "collapsed": false
   },
   "outputs": [],
   "source": []
  },
  {
   "cell_type": "code",
   "execution_count": 121,
   "metadata": {
    "collapsed": false
   },
   "outputs": [
    {
     "name": "stderr",
     "output_type": "stream",
     "text": [
      "/Users/tom/.virtualenvs/p2/lib/python2.7/site-packages/ipykernel/__main__.py:3: FutureWarning: sort(....) is deprecated, use sort_index(.....)\n",
      "  app.launch_new_instance()\n"
     ]
    },
    {
     "name": "stdout",
     "output_type": "stream",
     "text": [
      "A Search of a parallel collisionless shock. Saha et al. (1992)\n"
     ]
    }
   ],
   "source": []
  },
  {
   "cell_type": "code",
   "execution_count": 119,
   "metadata": {
    "collapsed": false
   },
   "outputs": [
    {
     "data": {
      "text/plain": [
       "(2000, 2)"
      ]
     },
     "execution_count": 119,
     "metadata": {},
     "output_type": "execute_result"
    }
   ],
   "source": [
    "df.shape"
   ]
  },
  {
   "cell_type": "code",
   "execution_count": null,
   "metadata": {
    "collapsed": true
   },
   "outputs": [],
   "source": []
  }
 ],
 "metadata": {
  "kernelspec": {
   "display_name": "Python 2",
   "language": "python",
   "name": "python2"
  },
  "language_info": {
   "codemirror_mode": {
    "name": "ipython",
    "version": 2
   },
   "file_extension": ".py",
   "mimetype": "text/x-python",
   "name": "python",
   "nbconvert_exporter": "python",
   "pygments_lexer": "ipython2",
   "version": "2.7.11"
  }
 },
 "nbformat": 4,
 "nbformat_minor": 0
}
