{
 "cells": [
  {
   "cell_type": "code",
   "execution_count": 4,
   "metadata": {
    "collapsed": true
   },
   "outputs": [],
   "source": [
    "from __future__ import (absolute_import, division, print_function,\n",
    "                        unicode_literals)\n",
    "\n",
    "# Standard library\n",
    "import json\n",
    "\n",
    "# Module specific\n",
    "#import ads\n",
    "import ads.sandbox as ads\n",
    "import pandas as pd\n",
    "import markovify"
   ]
  },
  {
   "cell_type": "code",
   "execution_count": 5,
   "metadata": {
    "collapsed": true
   },
   "outputs": [],
   "source": [
    "# Which metadata fields do we want to retrieve from the ADS API?\n",
    "# (basically everything apart from 'aff' and 'body' to reduce data volume)\n",
    "FIELDS = ['pub', 'citation_count', 'year', 'first_author_norm',\n",
    "          'title', 'property'\n",
    "         ]"
   ]
  },
  {
   "cell_type": "code",
   "execution_count": 7,
   "metadata": {
    "collapsed": false
   },
   "outputs": [],
   "source": [
    "from __future__ import (absolute_import, division, print_function,\n",
    "                        unicode_literals)\n",
    "\n",
    "# Standard library\n",
    "import json\n",
    "import re\n",
    "import argparse\n",
    "\n",
    "# Module specific\n",
    "import ads\n",
    "#import ads.sandbox as ads\n",
    "import pandas as pd\n",
    "\n",
    "# Which metadata fields do we want to retrieve from the ADS API?\n",
    "FIELDS = ['pub', 'citation_count', 'year', 'first_author_norm',\n",
    "          'title', 'property'\n",
    "         ]\n",
    "\n",
    "def getPapers(year=1991,rows=200000, mincite=2):\n",
    "\n",
    "    query = ads.SearchQuery(rows=rows, \n",
    "        year=year, \n",
    "        fl=FIELDS, \n",
    "        database = \"astronomy\", sort='citation_count desc',\n",
    "           fq=['database:astronomy', 'property:refereed', \n",
    "           'property:article', 'citation_count:[{} TO *]'.format(mincite)])\n",
    "\n",
    "    return query\n",
    "\n",
    "def makeDataframe(year=1991,rows=200000, mincite=2):\n",
    "    papers = []\n",
    "    for x in getPapers(year=year, rows=rows, mincite=mincite):\n",
    "        papers.append(x)\n",
    "\n",
    "    df = pd.DataFrame(\n",
    "        columns=['lastname', 'title'],\n",
    "        data=[returnLastnameTitle(q) for q in papers])\n",
    "\n",
    "    return df\n",
    "\n",
    "def returnLastnameTitle(q):\n",
    "    # last name\n",
    "    try:\n",
    "        lastname = q.first_author_norm.split(',')[0]\n",
    "        lastname = re.sub(r'([^\\s\\w]|_)+', '', lastname)\n",
    "    except AttributeError:\n",
    "        return ['none','none']\n",
    "\n",
    "    # paper title\n",
    "    try:\n",
    "        title = q.title[0]\n",
    "        title = re.sub(r'([^\\s\\w]|_)+', '', title)\n",
    "    except TypeError:\n",
    "        return ['none','none']\n",
    "\n",
    "    return [lastname,title]\n",
    "\n",
    "def toJson(year=1991,rows=200000, mincite=2):\n",
    "    df = makeDataframe(year=year,rows=rows, mincite=mincite)\n",
    "    df.to_json('data/{}.json'.format(year))\n",
    "\n"
   ]
  },
  {
   "cell_type": "code",
   "execution_count": 51,
   "metadata": {
    "collapsed": false
   },
   "outputs": [],
   "source": [
    "def printReference(year):\n",
    "    df = pd.read_json('data/{}.json'.format(year), )\n",
    "    df.sort_index(inplace=True)\n",
    "    textstr = '. '.join([df.title[i] for i in range(df.shape[0])])\n",
    "    text_model = markovify.Text(textstr, state_size=1, )\n",
    "    outtitle = text_model.make_short_sentence(90)\n",
    "\n",
    "    author = df['lastname'].value_counts()[df['lastname'].value_counts() > 1].sample().index[0]\n",
    "\n",
    "    print('{} et al., {} ({})'.format(author,outtitle,year))"
   ]
  },
  {
   "cell_type": "code",
   "execution_count": 61,
   "metadata": {
    "collapsed": false
   },
   "outputs": [
    {
     "name": "stdout",
     "output_type": "stream",
     "text": [
      "Briggs et al., Cosmogenic nuclides in SU UMa Stars. (1990)\n"
     ]
    }
   ],
   "source": [
    "printReference(1990)"
   ]
  },
  {
   "cell_type": "code",
   "execution_count": 88,
   "metadata": {
    "collapsed": false
   },
   "outputs": [],
   "source": [
    "import markovify\n",
    "import pandas\n",
    "\n",
    "from twython import Twython\n",
    "from secrets import *\n",
    "\n",
    "def printReference(year):\n",
    "    df = pd.read_json('data/{}.json'.format(year), )\n",
    "    df.sort_index(inplace=True)\n",
    "    textstr = '. '.join([df.title[i] for i in range(df.shape[0])])\n",
    "    text_model = markovify.Text(textstr, state_size=1, )\n",
    "    outtitle = text_model.make_short_sentence(140)\n",
    "\n",
    "    author = df['lastname'].value_counts()[df['lastname'].value_counts() > 1].sample().index[0]\n",
    "\n",
    "    return '{} et al., {} ({})'.format(author,outtitle,year)\n",
    "\n",
    "def post_tweet(status,):\n",
    "    \"\"\"Post an animated gif and associated status message to Twitter.\"\"\"\n",
    "    twitter = Twython(APP_KEY, APP_SECRET, OAUTH_TOKEN, OAUTH_TOKEN_SECRET)\n",
    "    response = twitter.update_status(status=status)\n",
    "    print(response)\n",
    "    return twitter, response"
   ]
  },
  {
   "cell_type": "code",
   "execution_count": 102,
   "metadata": {
    "collapsed": false
   },
   "outputs": [],
   "source": [
    "#status = printReference(1985)\n",
    "#q = post_tweet(status)"
   ]
  },
  {
   "cell_type": "code",
   "execution_count": 69,
   "metadata": {
    "collapsed": false
   },
   "outputs": [],
   "source": [
    "# twitter = Twython(APP_KEY, APP_SECRET, OAUTH_TOKEN, OAUTH_TOKEN_SECRET)\n",
    "# response = twitter.update_status(status='hello', )"
   ]
  },
  {
   "cell_type": "code",
   "execution_count": null,
   "metadata": {
    "collapsed": false
   },
   "outputs": [],
   "source": [
    "\n",
    "\n"
   ]
  },
  {
   "cell_type": "code",
   "execution_count": null,
   "metadata": {
    "collapsed": false
   },
   "outputs": [],
   "source": []
  },
  {
   "cell_type": "code",
   "execution_count": null,
   "metadata": {
    "collapsed": true
   },
   "outputs": [],
   "source": []
  },
  {
   "cell_type": "code",
   "execution_count": null,
   "metadata": {
    "collapsed": false
   },
   "outputs": [],
   "source": []
  },
  {
   "cell_type": "code",
   "execution_count": 62,
   "metadata": {
    "collapsed": false
   },
   "outputs": [
    {
     "name": "stderr",
     "output_type": "stream",
     "text": [
      "/Users/tom/.virtualenvs/p2/lib/python2.7/site-packages/ipykernel/__main__.py:2: FutureWarning: sort(....) is deprecated, use sort_index(.....)\n",
      "  from ipykernel import kernelapp as app\n"
     ]
    }
   ],
   "source": [
    "df = pd.read_json('data/2015.json', )\n",
    "df.sort(inplace=True)"
   ]
  },
  {
   "cell_type": "code",
   "execution_count": 98,
   "metadata": {
    "collapsed": false
   },
   "outputs": [
    {
     "name": "stdout",
     "output_type": "stream",
     "text": [
      "Wilson et al., Observations of auroral arcs and Stability of Mexico. (1973)\n"
     ]
    }
   ],
   "source": [
    "print(printReference(1973))"
   ]
  },
  {
   "cell_type": "code",
   "execution_count": null,
   "metadata": {
    "collapsed": false
   },
   "outputs": [],
   "source": []
  },
  {
   "cell_type": "code",
   "execution_count": null,
   "metadata": {
    "collapsed": false
   },
   "outputs": [],
   "source": []
  },
  {
   "cell_type": "code",
   "execution_count": null,
   "metadata": {
    "collapsed": false
   },
   "outputs": [],
   "source": [
    "\n"
   ]
  },
  {
   "cell_type": "code",
   "execution_count": null,
   "metadata": {
    "collapsed": false
   },
   "outputs": [],
   "source": []
  },
  {
   "cell_type": "code",
   "execution_count": null,
   "metadata": {
    "collapsed": false
   },
   "outputs": [],
   "source": []
  },
  {
   "cell_type": "code",
   "execution_count": 63,
   "metadata": {
    "collapsed": false
   },
   "outputs": [
    {
     "data": {
      "text/plain": [
       "(2000, 2)"
      ]
     },
     "execution_count": 63,
     "metadata": {},
     "output_type": "execute_result"
    }
   ],
   "source": [
    "df.shape"
   ]
  },
  {
   "cell_type": "code",
   "execution_count": null,
   "metadata": {
    "collapsed": true
   },
   "outputs": [],
   "source": []
  },
  {
   "cell_type": "code",
   "execution_count": 101,
   "metadata": {
    "collapsed": false
   },
   "outputs": [
    {
     "data": {
      "text/plain": [
       "u'tom tom'"
      ]
     },
     "execution_count": 101,
     "metadata": {},
     "output_type": "execute_result"
    }
   ],
   "source": [
    "re.sub('-',' ', 'tom-tom')"
   ]
  },
  {
   "cell_type": "code",
   "execution_count": null,
   "metadata": {
    "collapsed": true
   },
   "outputs": [],
   "source": []
  },
  {
   "cell_type": "code",
   "execution_count": null,
   "metadata": {
    "collapsed": true
   },
   "outputs": [],
   "source": []
  }
 ],
 "metadata": {
  "kernelspec": {
   "display_name": "Python 2",
   "language": "python",
   "name": "python2"
  },
  "language_info": {
   "codemirror_mode": {
    "name": "ipython",
    "version": 2
   },
   "file_extension": ".py",
   "mimetype": "text/x-python",
   "name": "python",
   "nbconvert_exporter": "python",
   "pygments_lexer": "ipython2",
   "version": "2.7.11"
  }
 },
 "nbformat": 4,
 "nbformat_minor": 0
}
